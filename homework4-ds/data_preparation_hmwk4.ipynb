{
 "cells": [
  {
   "cell_type": "code",
   "execution_count": 2,
   "metadata": {},
   "outputs": [
    {
     "output_type": "execute_result",
     "data": {
      "text/plain": [
       "Index(['age', 'sex', 'bmi', 'bp', 's1', 's2', 's3', 's4', 's5', 's6',\n",
       "       'target'],\n",
       "      dtype='object')"
      ]
     },
     "metadata": {},
     "execution_count": 2
    }
   ],
   "source": [
    "from sklearn.datasets import load_diabetes \n",
    "import pandas as pd \n",
    "\n",
    "wine_data = load_diabetes(as_frame=True)\n",
    "df = pd.DataFrame(wine_data['data'])\n",
    "y = pd.DataFrame(wine_data['target'])\n",
    "df['target'] = y\n",
    "df.columns\n"
   ]
  },
  {
   "cell_type": "code",
   "execution_count": 3,
   "metadata": {},
   "outputs": [
    {
     "output_type": "stream",
     "name": "stdout",
     "text": [
      "Modified rows: [263, 76, 426, 264, 105, 218, 300, 383, 136, 164]\nModified cols: [5, 3, 10, 1]\nModified rows: [330, 432, 175, 260, 114, 96, 150, 384, 173, 410, 321, 265, 108, 333, 199, 54, 357, 164, 218, 92]\nModified cols: [4, 7, 2, 10, 8]\nModified rows: [141, 230, 72, 76, 5]\nModified cols: [2, 8, 7, 3, 0]\nModified rows: [365, 28, 67, 405, 32]\nModified cols: [5, 2, 3, 6, 4]\n"
     ]
    }
   ],
   "source": [
    "from random import sample\n",
    "\n",
    "# remove values\n",
    "idxs_rows = sample(range(len(df)), 10)\n",
    "columns = df.columns\n",
    "idxs_cols = sample(range(len(columns)), 4)\n",
    "print(f\"Modified rows: {idxs_rows}\")\n",
    "print(f\"Modified cols: {idxs_cols}\")\n",
    "\n",
    "for idxr in idxs_rows:\n",
    "    for idxc in idxs_cols:\n",
    "        df.iloc[idxr][columns[idxc]] = None\n",
    "\n",
    "# convert values to string\n",
    "idxs_rows = sample(range(len(df)), 20)\n",
    "columns = df.columns\n",
    "idxs_cols = sample(range(len(columns)), 5)\n",
    "print(f\"Modified rows: {idxs_rows}\")\n",
    "print(f\"Modified cols: {idxs_cols}\")\n",
    "\n",
    "for idxr in idxs_rows:\n",
    "    for idxc in idxs_cols:\n",
    "        value = df.iloc[idxr][columns[idxc]]\n",
    "        df.iloc[idxr][columns[idxc]] = f\"{value}\"\n",
    "\n",
    "# add negative values\n",
    "idxs_rows = sample(range(len(df)), 5)\n",
    "columns = df.columns\n",
    "idxs_cols = sample(range(len(columns)), 5)\n",
    "print(f\"Modified rows: {idxs_rows}\")\n",
    "print(f\"Modified cols: {idxs_cols}\")\n",
    "\n",
    "# add large values\n",
    "idxs_rows = sample(range(len(df)), 5)\n",
    "columns = df.columns\n",
    "idxs_cols = sample(range(len(columns)), 5)\n",
    "print(f\"Modified rows: {idxs_rows}\")\n",
    "print(f\"Modified cols: {idxs_cols}\")\n",
    "\n",
    "for idxr in idxs_rows:\n",
    "    for idxc in idxs_cols:\n",
    "        value = df.iloc[idxr][columns[idxc]]\n",
    "        df.iloc[idxr][columns[idxc]] = value * 10**4"
   ]
  },
  {
   "cell_type": "code",
   "execution_count": 4,
   "metadata": {},
   "outputs": [
    {
     "output_type": "execute_result",
     "data": {
      "text/plain": [
       "array([[ 3.80759064e-02,  5.06801187e-02,  6.16962065e-02, ...,\n",
       "         1.99084209e-02, -1.76461252e-02,  1.51000000e+02],\n",
       "       [-1.88201653e-03, -4.46416365e-02, -5.14740612e-02, ...,\n",
       "        -6.83297436e-02, -9.22040496e-02,  7.50000000e+01],\n",
       "       [ 8.52989063e-02,  5.06801187e-02,  4.44512133e-02, ...,\n",
       "         2.86377052e-03, -2.59303390e-02,  1.41000000e+02],\n",
       "       ...,\n",
       "       [ 4.17084449e-02,  5.06801187e-02, -1.59062628e-02, ...,\n",
       "        -4.68794828e-02,  1.54907302e-02,  1.32000000e+02],\n",
       "       [-4.54724779e-02, -4.46416365e-02,  3.90621530e-02, ...,\n",
       "         4.45283740e-02, -2.59303390e-02,  2.20000000e+02],\n",
       "       [-4.54724779e-02, -4.46416365e-02, -7.30303027e-02, ...,\n",
       "        -4.21985971e-03,  3.06440941e-03,  5.70000000e+01]])"
      ]
     },
     "metadata": {},
     "execution_count": 4
    }
   ],
   "source": [
    "df.values"
   ]
  },
  {
   "cell_type": "code",
   "execution_count": 11,
   "metadata": {},
   "outputs": [],
   "source": [
    "import sqlite3\n",
    "conn = sqlite3.connect(\"homework4.db\")\n",
    "create_table = \"\"\"CREATE TABLE IF NOT EXISTS homework4(\n",
    "id integer PRIMARY KEY AUTOINCREMENT,\n",
    "age float,\n",
    "sex float,\n",
    "bmi float,\n",
    "bp float,\n",
    "s1 float,\n",
    "s2 float,\n",
    "s3 float,\n",
    "s4 float,\n",
    "s5 float,\n",
    "s6 float,\n",
    "target float);\"\"\"\n",
    "insert_data = \"\"\"insert into homework4 (age, sex, bmi, bp, s1, s2, s3, s4, s5, s6, target) \n",
    "values (?,?,?,?,?,?,?,?,?,?,?);\"\"\"\n",
    "\n",
    "cur = conn.cursor()\n",
    "cur.execute(create_table)\n",
    "for row in df.values:\n",
    "    cur.execute(insert_data, row)\n",
    "    conn.commit()"
   ]
  },
  {
   "cell_type": "code",
   "execution_count": 6,
   "metadata": {},
   "outputs": [],
   "source": [
    "conn.close()"
   ]
  },
  {
   "cell_type": "code",
   "execution_count": 13,
   "metadata": {},
   "outputs": [
    {
     "output_type": "execute_result",
     "data": {
      "text/plain": [
       "884"
      ]
     },
     "metadata": {},
     "execution_count": 13
    }
   ],
   "source": [
    "conn = sqlite3.connect(\"homework4.db\")\n",
    "df_test = pd.read_sql('select * from homework4', conn)\n",
    "len(df_test)"
   ]
  },
  {
   "cell_type": "code",
   "execution_count": null,
   "metadata": {},
   "outputs": [],
   "source": []
  }
 ],
 "metadata": {
  "kernelspec": {
   "name": "python3",
   "display_name": "Python 3.8.3 64-bit ('anaconda3': virtualenv)",
   "metadata": {
    "interpreter": {
     "hash": "dca0ade3e726a953b501b15e8e990130d2b7799f14cfd9f4271676035ebe5511"
    }
   }
  }
 },
 "nbformat": 4,
 "nbformat_minor": 4
}